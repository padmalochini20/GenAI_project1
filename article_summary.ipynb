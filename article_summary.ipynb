{
 "cells": [
  {
   "cell_type": "markdown",
   "id": "1de37eff-7b07-42f0-8de7-7e4f6ea2cf31",
   "metadata": {},
   "source": [
    "### Import OpenAI API key"
   ]
  },
  {
   "cell_type": "code",
   "execution_count": 2,
   "id": "ebf51188-da54-4b23-abeb-8ff85d24e922",
   "metadata": {},
   "outputs": [],
   "source": [
    "import os\n",
    "from secret_key import openai_key\n",
    "\n",
    "os.environ['OPENAI_API_KEY'] = openai_key\n"
   ]
  },
  {
   "cell_type": "markdown",
   "id": "ccf04e0b-fea5-4f26-9460-b062f1e78de6",
   "metadata": {},
   "source": [
    "### Data Extraction"
   ]
  },
  {
   "cell_type": "code",
   "execution_count": 1,
   "id": "f3d35c7b-9e30-43b3-a8e1-8b43958c2c81",
   "metadata": {},
   "outputs": [],
   "source": [
    "from langchain.document_loaders import UnstructuredURLLoader\n",
    "\n",
    "url_loader = UnstructuredURLLoader(urls=['https://en.wikipedia.org/wiki/Finance'])\n",
    "\n",
    "data = url_loader.load()"
   ]
  },
  {
   "cell_type": "markdown",
   "id": "8d56e110-4f72-4e8c-a735-2baf86e18c70",
   "metadata": {},
   "source": [
    "### Text splitter"
   ]
  },
  {
   "cell_type": "code",
   "execution_count": 4,
   "id": "040ae301-eeb8-41a5-8d32-681e0db3176b",
   "metadata": {},
   "outputs": [],
   "source": [
    "from langchain.text_splitter import RecursiveCharacterTextSplitter\n",
    "\n",
    "text_chunks = RecursiveCharacterTextSplitter(chunk_size=1000, chunk_overlap=200)\n",
    "\n",
    "docs = text_chunks.split_documents(data)"
   ]
  },
  {
   "cell_type": "code",
   "execution_count": 25,
   "id": "8b50581d-8fa4-42bf-b8fb-f3b759f978cf",
   "metadata": {},
   "outputs": [
    {
     "data": {
      "text/plain": [
       "65"
      ]
     },
     "execution_count": 25,
     "metadata": {},
     "output_type": "execute_result"
    }
   ],
   "source": [
    "len(docs)"
   ]
  },
  {
   "cell_type": "code",
   "execution_count": 26,
   "id": "dc5cc953-7665-41c9-8078-7c3554347fff",
   "metadata": {},
   "outputs": [
    {
     "data": {
      "text/plain": [
       "\"Buffett, W.; Cunningham, L.A. (2009). The Essays of Warren Buffett: Lessons for Investors and Managers. John Wiley & Sons (Asia) Pte Limited. ISBN 978-0-470-82441-2.\\n\\nStanley, Thomas J.; Danko, W.D. (1998). The Millionaire Next Door. Gallery Books. ISBN 978-0-671-01520-6. LCCN 98046515.\\n\\nSoros, George (1988). The Alchemy of Finance: Reading the Mind of the Market. A Touchstone book. Simon & Schuster. ISBN 978-0-671-66238-7. LCCN 87004745.\\n\\nFisher, Philip Arthur (1996). Common Stocks and Uncommon Profits and Other Writings. Wiley Investment Classics. Wiley. ISBN 978-0-471-11927-2. LCCN 95051449.\\n\\nExternal links\\n\\n[edit]\\n\\nFinance at Wikipedia's sister projects\\n\\nDefinitions from Wiktionary\\n\\nMedia from Commons\\n\\nNews from Wikinews\\n\\nQuotations from Wikiquote\\n\\nTexts from Wikisource\\n\\nTextbooks from Wikibooks\\n\\nResources from Wikiversity\\n\\nFinance Definition (Investopedia)\\n\\nHypertextual Finance Glossary (Campbell Harvey)\\n\\nGlossary of financial risk management terms (Risk.net)\""
      ]
     },
     "execution_count": 26,
     "metadata": {},
     "output_type": "execute_result"
    }
   ],
   "source": [
    "docs[60].page_content"
   ]
  },
  {
   "cell_type": "markdown",
   "id": "9f6a530a-5fe9-49cb-b320-02df7efa2952",
   "metadata": {},
   "source": [
    "### Create Embeddings and save it to FAISS"
   ]
  },
  {
   "cell_type": "code",
   "execution_count": 11,
   "id": "ef78df23-3699-4cae-82b5-4be8ca938b2e",
   "metadata": {},
   "outputs": [],
   "source": [
    "from langchain.embeddings import OpenAIEmbeddings\n",
    "from langchain.vectorstores import FAISS\n",
    "\n",
    "# Create Embeddings of chunks using OpenAI embeddings\n",
    "embeddings  = OpenAIEmbeddings()\n",
    "\n",
    "# Pass the documents and embeddings inorder to create FAISS vector index\n",
    "vectorstore_openai = FAISS.from_documents(docs, embeddings)\n",
    "\n",
    "# Save FAISS index locally\n",
    "file_path = 'faiss_store'\n",
    "vectorstore_openai.save_local(file_path)"
   ]
  },
  {
   "cell_type": "markdown",
   "id": "f10f90ba-f60f-439f-bea6-058f2c4d4cd4",
   "metadata": {},
   "source": [
    "### RAG for information extraction"
   ]
  },
  {
   "cell_type": "code",
   "execution_count": 13,
   "id": "38df544c-efaf-4897-9f59-d59fcd76fefc",
   "metadata": {},
   "outputs": [],
   "source": [
    "from langchain.chains import RetrievalQAWithSourcesChain\n",
    "from langchain.llms import OpenAI\n",
    "\n",
    "# define llm\n",
    "llm = OpenAI(temperature=0.7, max_tokens=500)\n",
    "\n",
    "# Vector Database\n",
    "vectorStore = FAISS.load_local(file_path, embeddings, allow_dangerous_deserialization=True)\n",
    "\n",
    "# create RAG chain\n",
    "chain = RetrievalQAWithSourcesChain.from_llm(llm=llm, retriever=vectorStore.as_retriever())\n",
    "\n"
   ]
  },
  {
   "cell_type": "markdown",
   "id": "6f093402-2015-4910-a422-f03a5193d508",
   "metadata": {},
   "source": [
    "### Query to extract info"
   ]
  },
  {
   "cell_type": "code",
   "execution_count": 29,
   "id": "3d66a6cb-af24-41f2-a9ff-ea35c45973a3",
   "metadata": {},
   "outputs": [],
   "source": [
    "query = \"what is finance?\"\n",
    "#query = 'Summarize the content'\n",
    "\n",
    "result = chain({\"question\": query}, return_only_outputs=True)"
   ]
  },
  {
   "cell_type": "code",
   "execution_count": 30,
   "id": "6146eedd-16aa-4e06-8268-cf18c1f28896",
   "metadata": {},
   "outputs": [
    {
     "data": {
      "text/plain": [
       "' Finance is the management of monetary resources and the study of money, currency, assets and liabilities. It involves the raising and administering of funds and the relationships between profit-seeking enterprises and fund suppliers. It also includes various subfields such as asset management, money management, risk management, investment management, and financial analysis. Its history dates back to ancient civilizations and has evolved into a complex and multidisciplinary field. \\n'"
      ]
     },
     "execution_count": 30,
     "metadata": {},
     "output_type": "execute_result"
    }
   ],
   "source": [
    "result['answer']"
   ]
  },
  {
   "cell_type": "code",
   "execution_count": null,
   "id": "bf1d50df-6e1d-40e2-92b0-217f0144420f",
   "metadata": {},
   "outputs": [],
   "source": []
  },
  {
   "cell_type": "code",
   "execution_count": null,
   "id": "44da733e-7a21-4dd8-9c2e-154ba2b4d1c6",
   "metadata": {},
   "outputs": [],
   "source": []
  },
  {
   "cell_type": "code",
   "execution_count": null,
   "id": "de661a5c-779f-4ced-a753-2cb151bbfe47",
   "metadata": {},
   "outputs": [],
   "source": []
  },
  {
   "cell_type": "code",
   "execution_count": null,
   "id": "07abf022-15d1-4d4d-bff2-1d785550efad",
   "metadata": {},
   "outputs": [],
   "source": []
  },
  {
   "cell_type": "code",
   "execution_count": null,
   "id": "ffc9f536-b258-4955-8a07-6304572ea377",
   "metadata": {},
   "outputs": [],
   "source": []
  },
  {
   "cell_type": "code",
   "execution_count": null,
   "id": "daccdd99-68af-43f4-a4e5-ce13c4e900cf",
   "metadata": {},
   "outputs": [],
   "source": []
  },
  {
   "cell_type": "code",
   "execution_count": null,
   "id": "58ae305d-1003-4de6-8556-0fe050552711",
   "metadata": {},
   "outputs": [],
   "source": []
  },
  {
   "cell_type": "code",
   "execution_count": null,
   "id": "35a65da1-a8fb-47a0-b2a0-f727da0c9258",
   "metadata": {},
   "outputs": [],
   "source": []
  },
  {
   "cell_type": "code",
   "execution_count": null,
   "id": "8807bbb3-bf42-438f-a4f6-664cbf6198b7",
   "metadata": {},
   "outputs": [],
   "source": []
  },
  {
   "cell_type": "code",
   "execution_count": null,
   "id": "4536b90c-df5e-4fcb-8301-604e98933db1",
   "metadata": {},
   "outputs": [],
   "source": []
  },
  {
   "cell_type": "code",
   "execution_count": null,
   "id": "1355e71c-3ab8-4994-869a-5a4718ab551a",
   "metadata": {},
   "outputs": [],
   "source": []
  },
  {
   "cell_type": "code",
   "execution_count": null,
   "id": "53064283-2ec7-433f-a8af-9a47b1882426",
   "metadata": {},
   "outputs": [],
   "source": []
  },
  {
   "cell_type": "code",
   "execution_count": null,
   "id": "c429a029-5610-463e-89e5-041ab5e93be4",
   "metadata": {},
   "outputs": [],
   "source": []
  },
  {
   "cell_type": "code",
   "execution_count": null,
   "id": "46a6a87c-04f8-491d-b9c7-24bf797d5adc",
   "metadata": {},
   "outputs": [],
   "source": []
  },
  {
   "cell_type": "code",
   "execution_count": null,
   "id": "38cb37b5-4c9d-4cf2-b56e-68eaa5f82e1a",
   "metadata": {},
   "outputs": [],
   "source": []
  },
  {
   "cell_type": "code",
   "execution_count": null,
   "id": "1442ff03-5592-42c2-bb67-21ab07a9f661",
   "metadata": {},
   "outputs": [],
   "source": []
  },
  {
   "cell_type": "code",
   "execution_count": null,
   "id": "d02c2061-bf4b-4151-a7f5-586c79cc70cb",
   "metadata": {},
   "outputs": [],
   "source": []
  },
  {
   "cell_type": "code",
   "execution_count": null,
   "id": "7d64eeae-f5bf-4be5-a776-b7a71e4b1059",
   "metadata": {},
   "outputs": [],
   "source": []
  },
  {
   "cell_type": "code",
   "execution_count": null,
   "id": "e58bc7a3-968a-47ae-8b37-1b87186e0c4b",
   "metadata": {},
   "outputs": [],
   "source": []
  },
  {
   "cell_type": "code",
   "execution_count": null,
   "id": "5fdb6850-fd4d-4712-9e8f-d658580a11e8",
   "metadata": {},
   "outputs": [],
   "source": []
  },
  {
   "cell_type": "code",
   "execution_count": null,
   "id": "3de4003d-b2bd-41a9-b38c-80d1ec6a39c4",
   "metadata": {},
   "outputs": [],
   "source": []
  },
  {
   "cell_type": "code",
   "execution_count": null,
   "id": "f269d782-24fc-4fc7-8765-7d08e956ea8d",
   "metadata": {},
   "outputs": [],
   "source": []
  },
  {
   "cell_type": "code",
   "execution_count": null,
   "id": "a1e10171-6722-47db-8193-4b0e269612c2",
   "metadata": {},
   "outputs": [],
   "source": []
  },
  {
   "cell_type": "code",
   "execution_count": null,
   "id": "6fa06ae8-045c-4d43-bf56-2057947a10b2",
   "metadata": {},
   "outputs": [],
   "source": []
  },
  {
   "cell_type": "code",
   "execution_count": null,
   "id": "b936d096-98ac-43d3-ac9f-407f1daa4158",
   "metadata": {},
   "outputs": [],
   "source": []
  },
  {
   "cell_type": "code",
   "execution_count": null,
   "id": "be4f6f0c-aecf-4cf1-ab59-9501cbd7f622",
   "metadata": {},
   "outputs": [],
   "source": []
  },
  {
   "cell_type": "code",
   "execution_count": null,
   "id": "1e3cacdc-ea61-4bb9-8cd2-4a41552990df",
   "metadata": {},
   "outputs": [],
   "source": []
  },
  {
   "cell_type": "code",
   "execution_count": null,
   "id": "206ad7f8-3908-4032-b50f-caeff9dbf558",
   "metadata": {},
   "outputs": [],
   "source": []
  },
  {
   "cell_type": "code",
   "execution_count": null,
   "id": "92f5a43a-c309-41cc-864d-4d3a2db9c7a5",
   "metadata": {},
   "outputs": [],
   "source": []
  },
  {
   "cell_type": "code",
   "execution_count": null,
   "id": "e702ba08-5358-4ab1-80be-24b5dd888b18",
   "metadata": {},
   "outputs": [],
   "source": []
  },
  {
   "cell_type": "code",
   "execution_count": null,
   "id": "deff3221-b9ec-4a4b-99e8-904cfd935dac",
   "metadata": {},
   "outputs": [],
   "source": []
  }
 ],
 "metadata": {
  "kernelspec": {
   "display_name": "Python 3 (ipykernel)",
   "language": "python",
   "name": "python3"
  },
  "language_info": {
   "codemirror_mode": {
    "name": "ipython",
    "version": 3
   },
   "file_extension": ".py",
   "mimetype": "text/x-python",
   "name": "python",
   "nbconvert_exporter": "python",
   "pygments_lexer": "ipython3",
   "version": "3.12.7"
  }
 },
 "nbformat": 4,
 "nbformat_minor": 5
}
